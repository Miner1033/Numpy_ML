{
 "cells": [
  {
   "cell_type": "code",
   "execution_count": 1,
   "id": "d25c2ba6-1aad-4715-873e-d49da2203ce2",
   "metadata": {},
   "outputs": [],
   "source": [
    "import numpy as np"
   ]
  },
  {
   "cell_type": "code",
   "execution_count": 7,
   "id": "98182cd3-44d9-4e01-9607-1bf8aa87f771",
   "metadata": {},
   "outputs": [],
   "source": [
    "ch_name=\"Miner Hossain\"\n",
    "s1=\" Rimon\""
   ]
  },
  {
   "cell_type": "code",
   "execution_count": 9,
   "id": "a04979f1-9890-4211-b334-23b5b920f814",
   "metadata": {},
   "outputs": [
    {
     "data": {
      "text/plain": [
       "array('Miner Hossain Rimon', dtype='<U19')"
      ]
     },
     "execution_count": 9,
     "metadata": {},
     "output_type": "execute_result"
    }
   ],
   "source": [
    "np.char.add(ch_name,s1)"
   ]
  },
  {
   "cell_type": "code",
   "execution_count": 11,
   "id": "0f102f18-7f90-4ff2-808f-8c8bca22257f",
   "metadata": {},
   "outputs": [
    {
     "data": {
      "text/plain": [
       "array('miner hossain', dtype='<U13')"
      ]
     },
     "execution_count": 11,
     "metadata": {},
     "output_type": "execute_result"
    }
   ],
   "source": [
    "np.char.lower(ch_name)"
   ]
  },
  {
   "cell_type": "code",
   "execution_count": 13,
   "id": "8dc5cbe8-109e-411d-879a-1c262958fdeb",
   "metadata": {},
   "outputs": [
    {
     "data": {
      "text/plain": [
       "array('MINER HOSSAIN', dtype='<U13')"
      ]
     },
     "execution_count": 13,
     "metadata": {},
     "output_type": "execute_result"
    }
   ],
   "source": [
    "np.char.upper(ch_name)"
   ]
  },
  {
   "cell_type": "code",
   "execution_count": 15,
   "id": "45e1d706-dc69-49e4-95fe-0139fb0ef22f",
   "metadata": {},
   "outputs": [
    {
     "data": {
      "text/plain": [
       "array('                            Rimon                           ',\n",
       "      dtype='<U60')"
      ]
     },
     "execution_count": 15,
     "metadata": {},
     "output_type": "execute_result"
    }
   ],
   "source": [
    "np.char.center(s1,60) #`np.char.center(s1, 60)` centers the string `s1` within a width of 60 characters, padding with spaces if necessary."
   ]
  },
  {
   "cell_type": "code",
   "execution_count": 17,
   "id": "cae136ae-47c7-4372-b81d-4d8b6c3b4c4a",
   "metadata": {},
   "outputs": [
    {
     "data": {
      "text/plain": [
       "array('*************************** Rimon***************************',\n",
       "      dtype='<U60')"
      ]
     },
     "execution_count": 17,
     "metadata": {},
     "output_type": "execute_result"
    }
   ],
   "source": [
    "np.char.center(s1,60,fillchar=\"*\") #`np.char.center(s1, 60, fillchar=\"*\")` centers the string `s1` within a width of 60 characters, padding with `*` characters if needed."
   ]
  },
  {
   "cell_type": "code",
   "execution_count": 19,
   "id": "c564f312-879d-47f3-bcc4-4d2fb6de1e70",
   "metadata": {},
   "outputs": [
    {
     "data": {
      "text/plain": [
       "array(list(['Miner', 'Hossain']), dtype=object)"
      ]
     },
     "execution_count": 19,
     "metadata": {},
     "output_type": "execute_result"
    }
   ],
   "source": [
    "np.char.split(ch_name)"
   ]
  },
  {
   "cell_type": "code",
   "execution_count": 23,
   "id": "12743a0f-40a8-407d-b86f-e3b7890cd9da",
   "metadata": {},
   "outputs": [
    {
     "data": {
      "text/plain": [
       "array(list(['hello', 'bangladeshi']), dtype=object)"
      ]
     },
     "execution_count": 23,
     "metadata": {},
     "output_type": "execute_result"
    }
   ],
   "source": [
    "np.char.splitlines(\"hello\\nbangladeshi\")"
   ]
  },
  {
   "cell_type": "code",
   "execution_count": 29,
   "id": "2ab2466f-345e-4bf1-9f2c-95e477ccb378",
   "metadata": {},
   "outputs": [],
   "source": [
    "s2=\"dmy\"\n",
    "s3=\"dmy\""
   ]
  },
  {
   "cell_type": "code",
   "execution_count": 31,
   "id": "151fd8ad-04e0-42ed-834f-ec67f1faaae1",
   "metadata": {},
   "outputs": [
    {
     "data": {
      "text/plain": [
       "array(['d:m:y', 'd/m/y'], dtype='<U5')"
      ]
     },
     "execution_count": 31,
     "metadata": {},
     "output_type": "execute_result"
    }
   ],
   "source": [
    "np.char.join([\":\",\"/\"],[s2,s3])"
   ]
  },
  {
   "cell_type": "code",
   "execution_count": 39,
   "id": "b0e7dec4-009f-48ae-bb0a-1f5da368d6be",
   "metadata": {},
   "outputs": [
    {
     "data": {
      "text/plain": [
       "array('machine learning', dtype='<U16')"
      ]
     },
     "execution_count": 39,
     "metadata": {},
     "output_type": "execute_result"
    }
   ],
   "source": [
    "np.char.replace(ch_name,\"Miner Hossain\",\"Machine Learning\")"
   ]
  },
  {
   "cell_type": "code",
   "execution_count": 41,
   "id": "69039fce-fa9b-422e-960d-78c8be2c83b6",
   "metadata": {},
   "outputs": [
    {
     "data": {
      "text/plain": [
       "array(True)"
      ]
     },
     "execution_count": 41,
     "metadata": {},
     "output_type": "execute_result"
    }
   ],
   "source": [
    "np.char.equal(s2,s3)"
   ]
  },
  {
   "cell_type": "code",
   "execution_count": 43,
   "id": "13fa84a0-127c-4053-b441-359a6852e982",
   "metadata": {},
   "outputs": [
    {
     "data": {
      "text/plain": [
       "array(1)"
      ]
     },
     "execution_count": 43,
     "metadata": {},
     "output_type": "execute_result"
    }
   ],
   "source": [
    "np.char.count(ch_name,\"a\")"
   ]
  },
  {
   "cell_type": "code",
   "execution_count": 47,
   "id": "6e340e1d-4904-4895-aee9-ca78f7996116",
   "metadata": {},
   "outputs": [
    {
     "data": {
      "text/plain": [
       "'Miner Hossain'"
      ]
     },
     "execution_count": 47,
     "metadata": {},
     "output_type": "execute_result"
    }
   ],
   "source": [
    "ch_name"
   ]
  },
  {
   "cell_type": "code",
   "execution_count": 49,
   "id": "e02c6203-6ce7-4703-a404-c671fda133b9",
   "metadata": {},
   "outputs": [
    {
     "data": {
      "text/plain": [
       "array(0)"
      ]
     },
     "execution_count": 49,
     "metadata": {},
     "output_type": "execute_result"
    }
   ],
   "source": [
    "np.char.find(ch_name,\"Miner\")"
   ]
  },
  {
   "cell_type": "code",
   "execution_count": null,
   "id": "763596df-9221-44c6-9911-63efff196948",
   "metadata": {},
   "outputs": [],
   "source": []
  }
 ],
 "metadata": {
  "kernelspec": {
   "display_name": "Python 3 (ipykernel)",
   "language": "python",
   "name": "python3"
  },
  "language_info": {
   "codemirror_mode": {
    "name": "ipython",
    "version": 3
   },
   "file_extension": ".py",
   "mimetype": "text/x-python",
   "name": "python",
   "nbconvert_exporter": "python",
   "pygments_lexer": "ipython3",
   "version": "3.12.4"
  }
 },
 "nbformat": 4,
 "nbformat_minor": 5
}
