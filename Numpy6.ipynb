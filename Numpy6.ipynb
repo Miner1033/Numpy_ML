{
 "cells": [
  {
   "cell_type": "code",
   "execution_count": 1,
   "id": "30c8f52e-af6f-4f43-817a-3551f2c49f90",
   "metadata": {},
   "outputs": [],
   "source": [
    "import numpy as np\n",
    "import random #`import numpy as np, random` imports the `numpy` library as `np` and the `random` module in one line."
   ]
  },
  {
   "cell_type": "code",
   "execution_count": 3,
   "id": "ae5ce3a0-8d58-4bc4-b251-22d3b105ca9e",
   "metadata": {},
   "outputs": [
    {
     "data": {
      "text/plain": [
       "array([0.18215863])"
      ]
     },
     "execution_count": 3,
     "metadata": {},
     "output_type": "execute_result"
    }
   ],
   "source": [
    "np.random.random(1) #`np.random.random(1)` generates a random float between 0 and 1 in a 1-element array."
   ]
  },
  {
   "cell_type": "code",
   "execution_count": 5,
   "id": "71ebc0f6-0212-49bd-a30d-6c2582130dab",
   "metadata": {},
   "outputs": [
    {
     "data": {
      "text/plain": [
       "array([[0.13933613, 0.57963522, 0.99626271],\n",
       "       [0.54919723, 0.00443036, 0.0670632 ],\n",
       "       [0.9445252 , 0.41386674, 0.73732376]])"
      ]
     },
     "execution_count": 5,
     "metadata": {},
     "output_type": "execute_result"
    }
   ],
   "source": [
    "np.random.random((3,3)) #`np.random.random((3, 3))` generates a 3x3 array with random float values between 0 and 1."
   ]
  },
  {
   "cell_type": "code",
   "execution_count": 9,
   "id": "febfb96c-eaa9-4285-b556-cdd4402f492b",
   "metadata": {},
   "outputs": [
    {
     "data": {
      "text/plain": [
       "1"
      ]
     },
     "execution_count": 9,
     "metadata": {},
     "output_type": "execute_result"
    }
   ],
   "source": [
    "np.random.randint(1,4) #`np.random.randint(1, 4)` generates a random integer between 1 (inclusive) and 4 (exclusive)."
   ]
  },
  {
   "cell_type": "code",
   "execution_count": 13,
   "id": "f7411b2a-429c-4979-aea1-6c9000c1ef15",
   "metadata": {},
   "outputs": [
    {
     "data": {
      "text/plain": [
       "array([[1, 3, 3, 1],\n",
       "       [1, 1, 2, 1],\n",
       "       [1, 1, 3, 3],\n",
       "       [1, 1, 2, 3]])"
      ]
     },
     "execution_count": 13,
     "metadata": {},
     "output_type": "execute_result"
    }
   ],
   "source": [
    "np.random.randint(1,4,(4,4)) #`np.random.randint(1, 4, (4, 4))` generates a 4x4 array with random integers between 1 (inclusive) and 4 (exclusive)."
   ]
  },
  {
   "cell_type": "code",
   "execution_count": 15,
   "id": "a3efe292-27ec-4380-9b5b-8d3d600c9a69",
   "metadata": {},
   "outputs": [
    {
     "data": {
      "text/plain": [
       "array([[[3, 1, 2, 2],\n",
       "        [3, 1, 3, 2],\n",
       "        [1, 2, 1, 2],\n",
       "        [3, 3, 3, 3]],\n",
       "\n",
       "       [[2, 2, 2, 3],\n",
       "        [1, 3, 2, 3],\n",
       "        [1, 3, 2, 2],\n",
       "        [2, 1, 1, 1]]])"
      ]
     },
     "execution_count": 15,
     "metadata": {},
     "output_type": "execute_result"
    }
   ],
   "source": [
    "np.random.randint(1,4,(2,4,4)) #`np.random.randint(1, 4, (2, 4, 4))` generates a 3D array with shape (2, 4, 4) containing random integers between 1 (inclusive) and 4 (exclusive)."
   ]
  },
  {
   "cell_type": "code",
   "execution_count": 19,
   "id": "973bdb6a-d2d5-47b0-87be-c329ea815918",
   "metadata": {},
   "outputs": [
    {
     "data": {
      "text/plain": [
       "array([[[2, 2, 1, 1],\n",
       "        [2, 1, 2, 2],\n",
       "        [1, 2, 2, 3],\n",
       "        [1, 2, 1, 3]],\n",
       "\n",
       "       [[1, 3, 1, 1],\n",
       "        [1, 3, 1, 3],\n",
       "        [3, 2, 1, 1],\n",
       "        [3, 2, 3, 2]]])"
      ]
     },
     "execution_count": 19,
     "metadata": {},
     "output_type": "execute_result"
    }
   ],
   "source": [
    "np.random.seed(10)\n",
    "np.random.randint(1,4,(2,4,4))#`np.random.seed(10)` sets the random seed to 10 for reproducibility, and `np.random.randint(1, 4, (2, 4, 4))` generates a 3D array with shape (2, 4, 4) containing random integers between 1 (inclusive) and 4 (exclusive), based on the fixed seed."
   ]
  },
  {
   "cell_type": "code",
   "execution_count": 21,
   "id": "d4920e7a-421a-4fec-9b9e-3a87504c7d18",
   "metadata": {},
   "outputs": [
    {
     "data": {
      "text/plain": [
       "4294967295"
      ]
     },
     "execution_count": 21,
     "metadata": {},
     "output_type": "execute_result"
    }
   ],
   "source": [
    "2**32-1"
   ]
  },
  {
   "cell_type": "code",
   "execution_count": 23,
   "id": "e1f0d84c-7493-4c4f-9508-7f06f165538f",
   "metadata": {},
   "outputs": [
    {
     "data": {
      "text/plain": [
       "array([0.13145815, 0.41366737, 0.77872881])"
      ]
     },
     "execution_count": 23,
     "metadata": {},
     "output_type": "execute_result"
    }
   ],
   "source": [
    "np.random.rand(3)#`np.random.rand(3)` generates a 1D array of 3 random float values between 0 and 1."
   ]
  },
  {
   "cell_type": "code",
   "execution_count": 25,
   "id": "c7374123-11b7-4b11-8fb4-1ed67b1a0947",
   "metadata": {},
   "outputs": [
    {
     "data": {
      "text/plain": [
       "array([[0.58390137, 0.18263144, 0.82608225],\n",
       "       [0.10540183, 0.28357668, 0.06556327],\n",
       "       [0.05644419, 0.76545582, 0.01178803]])"
      ]
     },
     "execution_count": 25,
     "metadata": {},
     "output_type": "execute_result"
    }
   ],
   "source": [
    "np.random.rand(3,3)#`np.random.rand(3, 3)` generates a 3x3 array of random float values between 0 and 1."
   ]
  },
  {
   "cell_type": "code",
   "execution_count": 27,
   "id": "ca0898de-0c5f-4fd5-b068-a7419cb2ffc5",
   "metadata": {},
   "outputs": [
    {
     "data": {
      "text/plain": [
       "array([[-1.58494101,  1.05535316, -1.92657911],\n",
       "       [ 0.69858388, -0.74620143, -0.15662666],\n",
       "       [-0.19363594,  1.13912535,  0.36221796]])"
      ]
     },
     "execution_count": 27,
     "metadata": {},
     "output_type": "execute_result"
    }
   ],
   "source": [
    "np.random.randn(3,3) #`np.random.randn(3, 3)` generates a 3x3 array of random values from a standard normal distribution (mean = 0, standard deviation = 1)."
   ]
  },
  {
   "cell_type": "code",
   "execution_count": 29,
   "id": "57d227c7-7054-43fe-a1a8-936bc83f4057",
   "metadata": {},
   "outputs": [
    {
     "data": {
      "text/plain": [
       "1"
      ]
     },
     "execution_count": 29,
     "metadata": {},
     "output_type": "execute_result"
    }
   ],
   "source": [
    "x=[1,2,3,4]\n",
    "np.random.choice(x) #`np.random.choice(x)` randomly selects one element from the list `x`."
   ]
  },
  {
   "cell_type": "code",
   "execution_count": 31,
   "id": "d8454ed3-325b-4aea-978b-314852aede7d",
   "metadata": {},
   "outputs": [
    {
     "name": "stdout",
     "output_type": "stream",
     "text": [
      "1\n",
      "1\n",
      "2\n",
      "1\n",
      "4\n",
      "1\n",
      "1\n",
      "3\n",
      "1\n",
      "3\n",
      "3\n",
      "1\n",
      "4\n",
      "2\n",
      "1\n",
      "4\n",
      "2\n",
      "3\n",
      "3\n",
      "2\n"
     ]
    }
   ],
   "source": [
    "for i in range(20):\n",
    "    print(np.random.choice(x)) #`for i in range(20): print(np.random.choice(x))` randomly selects and prints one element from the list `x` 20 times."
   ]
  },
  {
   "cell_type": "code",
   "execution_count": 33,
   "id": "bf6f2dd9-77f0-4e20-8ad1-3f91b7b14112",
   "metadata": {},
   "outputs": [
    {
     "data": {
      "text/plain": [
       "[1, 2, 3, 4]"
      ]
     },
     "execution_count": 33,
     "metadata": {},
     "output_type": "execute_result"
    }
   ],
   "source": [
    "x"
   ]
  },
  {
   "cell_type": "code",
   "execution_count": 35,
   "id": "f114bb14-4185-4688-bcbb-2e568c65f01d",
   "metadata": {},
   "outputs": [
    {
     "data": {
      "text/plain": [
       "array([1, 2, 4, 3])"
      ]
     },
     "execution_count": 35,
     "metadata": {},
     "output_type": "execute_result"
    }
   ],
   "source": [
    "np.random.permutation(x) #`np.random.permutation(x)` randomly shuffles the elements of the array `x` and returns a new array with the shuffled order."
   ]
  },
  {
   "cell_type": "code",
   "execution_count": 37,
   "id": "8a3ab4f0-d878-4d14-a90f-c0e7c56de1da",
   "metadata": {},
   "outputs": [
    {
     "data": {
      "text/plain": [
       "array([2, 3, 4, 1])"
      ]
     },
     "execution_count": 37,
     "metadata": {},
     "output_type": "execute_result"
    }
   ],
   "source": [
    "np.random.permutation(x) #`np.random.permutation(x)` returns a new array with the elements of `x` randomly shuffled."
   ]
  },
  {
   "cell_type": "code",
   "execution_count": null,
   "id": "f149960d-aaf7-4458-86fb-765dd06903e0",
   "metadata": {},
   "outputs": [],
   "source": []
  }
 ],
 "metadata": {
  "kernelspec": {
   "display_name": "Python 3 (ipykernel)",
   "language": "python",
   "name": "python3"
  },
  "language_info": {
   "codemirror_mode": {
    "name": "ipython",
    "version": 3
   },
   "file_extension": ".py",
   "mimetype": "text/x-python",
   "name": "python",
   "nbconvert_exporter": "python",
   "pygments_lexer": "ipython3",
   "version": "3.12.4"
  }
 },
 "nbformat": 4,
 "nbformat_minor": 5
}
